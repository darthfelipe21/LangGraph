{
  "nbformat": 4,
  "nbformat_minor": 0,
  "metadata": {
    "colab": {
      "provenance": [],
      "authorship_tag": "ABX9TyMvRGDxQ9dw3AEA8sMyBljn",
      "include_colab_link": true
    },
    "kernelspec": {
      "name": "python3",
      "display_name": "Python 3"
    },
    "language_info": {
      "name": "python"
    }
  },
  "cells": [
    {
      "cell_type": "markdown",
      "metadata": {
        "id": "view-in-github",
        "colab_type": "text"
      },
      "source": [
        "<a href=\"https://colab.research.google.com/github/darthfelipe21/LangGraph/blob/main/LangGraphOneLineAgents.ipynb\" target=\"_parent\"><img src=\"https://colab.research.google.com/assets/colab-badge.svg\" alt=\"Open In Colab\"/></a>"
      ]
    },
    {
      "cell_type": "markdown",
      "source": [
        "# One-line agents\n",
        "\n",
        "Up until this point, you've used LangGraph's low-level syntax for defining individual nodes and edges and building-up the graph component-by-component. This can continue to serve you well as you progress to multi-modal systems, but for faster experimentation, switching to LangGraph's pre-built components can be a useful option."
      ],
      "metadata": {
        "id": "ugG9eFALDkQC"
      }
    },
    {
      "cell_type": "code",
      "execution_count": null,
      "metadata": {
        "id": "5H5KB_LqDcBv"
      },
      "outputs": [],
      "source": [
        "!pip install --quiet wikipedia==1.4.0 langchain-core==0.3.59 langgraph==0.5.3 langchain-openai==0.3.16 langchain-experimental==0.3.4"
      ]
    },
    {
      "cell_type": "code",
      "source": [
        "from typing import Annotated\n",
        "import wikipedia\n",
        "from langchain_core.tools import tool\n",
        "import pandas as pd\n",
        "import os\n",
        "\n",
        "@tool\n",
        "def wikipedia_tool(\n",
        "    query: Annotated[str, \"The Wikipedia search to execute to find key summary information.\"],\n",
        "):\n",
        "    \"\"\"Use this to search Wikipedia for factual information.\"\"\"\n",
        "    try:\n",
        "        # Step 1: Search using query\n",
        "        results = wikipedia.search(query)\n",
        "\n",
        "        if not results:\n",
        "            return \"No results found on Wikipedia.\"\n",
        "\n",
        "        # Step 2: Retrieve page title\n",
        "        title = results[0]\n",
        "\n",
        "        # Step 3: Fetch summary\n",
        "        summary = wikipedia.summary(title, sentences=8, auto_suggest=False, redirect=True)\n",
        "    except BaseException as e:\n",
        "        return f\"Failed to execute. Error: {repr(e)}\"\n",
        "    return f\"Successfully executed:\\nWikipedia summary: {summary}\"\n",
        "\n",
        "@tool\n",
        "def stock_data_tool(\n",
        "    company_ticker: Annotated[str, \"The ticker symbol of the company to retrieve their stock performance data.\"],\n",
        "    num_days: Annotated[int, \"The number of business days of stock data required to respond to the user query.\"]\n",
        ") -> str:\n",
        "    \"\"\"\n",
        "    Use this to look-up stock performance data for companies to retrieve a table from a CSV. You may need to convert company names into ticker symbols to call this function, e.g, Apple Inc. -> AAPL, and you may need to convert weeks, months, and years, into days.\n",
        "    \"\"\"\n",
        "\n",
        "    # Load the CSV for the company requested\n",
        "    file_path = f\"data/{company_ticker}.csv\"\n",
        "\n",
        "    if os.path.exists(file_path) is False:\n",
        "        return f\"Sorry, but data for company {company_ticker} is not available. Please try Apple, Amazon, Meta, Microsoft, Netflix, or Tesla.\"\n",
        "\n",
        "    stock_df = pd.read_csv(file_path, index_col='Date', parse_dates=True)\n",
        "\n",
        "    # Ensure the index is in date format\n",
        "    stock_df.index = stock_df.index.date\n",
        "\n",
        "    # Maximum num_days supported by the dataset\n",
        "    max_num_days = (stock_df.index.max() - stock_df.index.min()).days\n",
        "\n",
        "    if num_days > max_num_days:\n",
        "        return \"Sorry, but this time period exceeds the data available. Please reduce it to continue.\"\n",
        "\n",
        "    # Get the most recent date in the DataFrame\n",
        "    final_date = stock_df.index.max()\n",
        "\n",
        "    # Filter the DataFrame to get the last num_days of stock data\n",
        "    filtered_df = stock_df[stock_df.index > (final_date - pd.Timedelta(days=num_days))]\n",
        "\n",
        "    return f\"Successfully executed the stock performance data retrieval tool to retrieve the last *{num_days} days* of data for company **{company_ticker}**:\\n\\n{filtered_df.to_markdown()}\"\n",
        "\n",
        "from langchain_experimental.utilities import PythonREPL\n",
        "\n",
        "repl = PythonREPL()\n",
        "\n",
        "@tool\n",
        "def python_repl_tool(\n",
        "    code: Annotated[str, \"The python code to execute to generate your chart.\"],\n",
        "):\n",
        "    \"\"\"Use this to execute python code. If you want to see the output of a value,\n",
        "    you should print it out with `print(...)`. This is visible to the user. The chart should be displayed using `plt.show()`.\"\"\"\n",
        "    try:\n",
        "        result = repl.run(code)\n",
        "    except BaseException as e:\n",
        "        return f\"Failed to execute. Error: {repr(e)}\"\n",
        "    return f\"Successfully executed the Python REPL tool.\\n\\nPython code executed:\\n\\`\\`\\`python\\n{code}\\n\\`\\`\\`\\n\\nCode output:\\n\\`\\`\\`\\n{result}\\`\\`\\`\""
      ],
      "metadata": {
        "id": "y0ixmUSiDqIh"
      },
      "execution_count": null,
      "outputs": []
    },
    {
      "cell_type": "markdown",
      "source": [
        "LangGraph's `create_react_agent()` function allows you to quickly instantiate a tool-calling agent from an LLM and a list of tools!"
      ],
      "metadata": {
        "id": "UDPyeZIFDsnp"
      }
    },
    {
      "cell_type": "code",
      "source": [
        "from langgraph.prebuilt import create_react_agent\n",
        "from langchain_openai import ChatOpenAI\n",
        "\n",
        "# Add three tools to the list: wikipedia_tool, stock_data_tool, and python_repl_tool\n",
        "tools = [wikipedia_tool, stock_data_tool, python_repl_tool]\n",
        "\n",
        "llm = ChatOpenAI(model=\"gpt-4o-mini\")\n",
        "\n",
        "# Create an agent using the create_react_agent function\n",
        "prompt = \"\"\"\n",
        "You are an assistant for research and analysis of Fortune 500 companies. You have access to three tools:\n",
        "- A Wikipedia tool for retrieving factual summary information about companies\n",
        "- A stock performance data tool for retrieving stock price information from local CSV files\n",
        "- A Python tool for executing Python code, which is to be used for creating stock performance visualizations\n",
        "\"\"\"\n",
        "\n",
        "# Create an agent using the create_react_agent function\n",
        "agent = create_react_agent(llm,\n",
        "                          tools=tools,\n",
        "                          name=\"finance_assistant\",\n",
        "                          prompt=prompt)"
      ],
      "metadata": {
        "id": "19UszL31Dudh"
      },
      "execution_count": null,
      "outputs": []
    },
    {
      "cell_type": "markdown",
      "source": [
        "This `agent` object is an already-compiled graph, so it can be visualized and interacted with in the same way as your previous graph to verify its equivalence:"
      ],
      "metadata": {
        "id": "WJSOFEYEDxno"
      }
    },
    {
      "cell_type": "code",
      "source": [
        "# Visualize your graph\n",
        "agent"
      ],
      "metadata": {
        "id": "o8fOni5xDyDY"
      },
      "execution_count": null,
      "outputs": []
    },
    {
      "cell_type": "markdown",
      "source": [
        "Here are the same prompts you tried with your graph with the conditional edge:\n",
        "\n",
        "- Tell me about Apple Inc.\n",
        "- AAPL stock price.\n",
        "- My name is ...\n",
        "- Plot an Open price time-series of AAPL."
      ],
      "metadata": {
        "id": "Zkd0GheiD1Vp"
      }
    },
    {
      "cell_type": "code",
      "source": [
        "from course_helper_functions import pretty_print_messages\n",
        "\n",
        "for chunk in agent.stream(\n",
        "    {\"messages\": [{\"role\": \"user\", \"content\": \"Tell me Tesla's current CEO, their latest stock price, and generate a plot of the closing price with the most up-to-date data you have available.\"}]}\n",
        "):\n",
        "    pretty_print_messages(chunk)"
      ],
      "metadata": {
        "id": "akjhIShUD10Y"
      },
      "execution_count": null,
      "outputs": []
    }
  ]
}